{
  "cells": [
    {
      "cell_type": "markdown",
      "metadata": {},
      "source": "# Report (living draft)"
    },
    {
      "cell_type": "markdown",
      "metadata": {},
      "source": "This notebook accumulates findings weekly."
    }
  ],
  "metadata": {
    "kernelspec": {
      "display_name": "Python 3",
      "language": "python",
      "name": "python3"
    },
    "language_info": {
      "name": "python"
    }
  },
  "nbformat": 4,
  "nbformat_minor": 5
}