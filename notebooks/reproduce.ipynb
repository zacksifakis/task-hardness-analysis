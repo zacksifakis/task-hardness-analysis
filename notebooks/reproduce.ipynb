{
 "cells": [
  {
   "cell_type": "markdown",
   "id": "49663aa1",
   "metadata": {},
   "source": [
    "# Reproduce main figures"
   ]
  },
  {
   "cell_type": "code",
   "execution_count": 1,
   "id": "27294b46",
   "metadata": {
    "execution": {
     "iopub.execute_input": "2025-09-09T00:16:34.938382Z",
     "iopub.status.busy": "2025-09-09T00:16:34.937776Z",
     "iopub.status.idle": "2025-09-09T00:17:27.088042Z",
     "shell.execute_reply": "2025-09-09T00:17:27.086067Z"
    }
   },
   "outputs": [
    {
     "name": "stdout",
     "output_type": "stream",
     "text": [
      "Scanning experiment_archive ...\r\n"
     ]
    },
    {
     "name": "stdout",
     "output_type": "stream",
     "text": [
      "Scanning results ...\r\n"
     ]
    },
    {
     "name": "stdout",
     "output_type": "stream",
     "text": [
      "/workspace/nb.py:1092: MatplotlibDeprecationWarning: The 'labels' parameter of boxplot() has been renamed 'tick_labels' since Matplotlib 3.9; support for the old name will be dropped in 3.11.\r\n",
      "  plt.boxplot(data, labels=labels, showfliers=False)\r\n"
     ]
    },
    {
     "name": "stdout",
     "output_type": "stream",
     "text": [
      "/workspace/nb.py:1100: MatplotlibDeprecationWarning: The 'labels' parameter of boxplot() has been renamed 'tick_labels' since Matplotlib 3.9; support for the old name will be dropped in 3.11.\r\n",
      "  plt.boxplot(data, labels=labels, showfliers=False)\r\n"
     ]
    },
    {
     "name": "stdout",
     "output_type": "stream",
     "text": [
      "Done. See: reports/week01/summary.md\r\n"
     ]
    }
   ],
   "source": [
    "!python3 nb.py --bases experiment_archive results --out reports/week01"
   ]
  }
 ],
 "metadata": {
  "kernelspec": {
   "display_name": "Python 3",
   "language": "python",
   "name": "python3"
  },
  "language_info": {
   "codemirror_mode": {
    "name": "ipython",
    "version": 3
   },
   "file_extension": ".py",
   "mimetype": "text/x-python",
   "name": "python",
   "nbconvert_exporter": "python",
   "pygments_lexer": "ipython3",
   "version": "3.10.12"
  }
 },
 "nbformat": 4,
 "nbformat_minor": 5
}
