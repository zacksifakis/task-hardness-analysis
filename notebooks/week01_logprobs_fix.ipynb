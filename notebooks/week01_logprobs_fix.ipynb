{
  "cells": [
    {
      "cell_type": "markdown",
      "metadata": {},
      "source": "# Week 01 — Logprobs fix & baseline relaunch"
    },
    {
      "cell_type": "markdown",
      "metadata": {},
      "source": "**Goal**: validate token logprobs and relaunch baseline."
    },
    {
      "cell_type": "code",
      "metadata": {},
      "execution_count": null,
      "outputs": [],
      "source": "!python3 nb.py --bases experiment_archive results --out reports/week01"
    },
    {
      "cell_type": "markdown",
      "metadata": {},
      "source": "Figures will be saved under `figures/week01`."
    }
  ],
  "metadata": {
    "kernelspec": {
      "display_name": "Python 3",
      "language": "python",
      "name": "python3"
    },
    "language_info": {
      "name": "python"
    }
  },
  "nbformat": 4,
  "nbformat_minor": 5
}